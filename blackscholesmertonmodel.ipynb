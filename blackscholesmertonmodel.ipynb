{
 "cells": [
  {
   "cell_type": "markdown",
   "metadata": {},
   "source": []
  },
  {
   "cell_type": "markdown",
   "metadata": {},
   "source": [
    "### Purpose of this notebook\n",
    "\n",
    "The aim of this is to understand black scholes merton model better using python. \n",
    "\n",
    "#### What is the black scholes model ?\n",
    "\n",
    "Black scholes (BSM) is a mathematical equation that is used in finance to estimate the value of derivatives, it is largely used to price an options contract (Call/Put options). The model takes uses 5 key variables (Current stock pric(S)), Strike price(K), Time to expiration(T), Risk free interest rate(r) and Volatily(vol)) to make estimations. \n",
    "\n",
    "#### What are the key assumptions made by the model ?\n",
    "1. There are no dividends paid out during the lifespan of the option.\n",
    "2. Markets are random.\n",
    "3. There are no transction costs involved in buying the option.\n",
    "4. The risk free rate and the volatility are known and remain constant.\n",
    "5. The returns of the underlying asset are normally distributed.\n",
    "6. The option is Euopean and can only be exercised at expiration. \n",
    "\n",
    "\n",
    "#### The formula:\n",
    "\n",
    "The Black-Scholes formula for a European call option is given by:\n",
    "\n",
    "$$ C = S N(d_1) - K e^{-rT} N(d_2) $$\n",
    "\n",
    "For a European put option, the formula is:\n",
    "\n",
    "$$ P = K e^{-rT} N(-d_2) - S N(-d_1) $$\n",
    "\n",
    "Where d1 is:\n",
    "\n",
    "$$ d_1 = \\frac{\\ln\\left(\\frac{S_0}{X}\\right) + \\left(r + \\frac{\\sigma^2}{2}\\right)T}{\\sigma \\sqrt{T}} $$\n",
    "\n",
    "And d2 is :\n",
    "\n",
    "$$ d_2 = d_1 - \\sigma \\sqrt{T} $$"
   ]
  },
  {
   "cell_type": "code",
   "execution_count": 63,
   "metadata": {},
   "outputs": [],
   "source": [
    "import math \n",
    "from scipy.stats import norm"
   ]
  },
  {
   "cell_type": "code",
   "execution_count": 64,
   "metadata": {},
   "outputs": [],
   "source": [
    "# 5 key variables \n",
    "\n",
    "S = 50 # Current / underlying stock price\n",
    "K = 44 # Strike price\n",
    "r = 0.1 # risk-free-rate\n",
    "T = 0.5 # time to maturity\n",
    "vol = 0.2 # Volatility"
   ]
  },
  {
   "cell_type": "code",
   "execution_count": 65,
   "metadata": {},
   "outputs": [],
   "source": [
    "# Calculate d1 \n",
    "d1 = (math.log(S/K)+ (r + 0.5 * vol**2)*T) / (vol * math.sqrt(T))"
   ]
  },
  {
   "cell_type": "code",
   "execution_count": 66,
   "metadata": {},
   "outputs": [],
   "source": [
    "# Calculate d2 \n",
    "d2 = d1 - vol*(math.sqrt(T))"
   ]
  },
  {
   "cell_type": "code",
   "execution_count": 67,
   "metadata": {},
   "outputs": [],
   "source": [
    "def bsm_call(S, K, T, r, vol):\n",
    "    # Calculate the call option price\n",
    "    C = S* norm.cdf(d1)  - K * math.exp(-r * T) * norm.cdf(d2)\n",
    "    \n",
    "bsm_call(S, K, T, r, vol)"
   ]
  },
  {
   "cell_type": "code",
   "execution_count": 68,
   "metadata": {},
   "outputs": [],
   "source": [
    "def bsm_put(S, K, T, r, vol):\n",
    "    # Calculate the put option price\n",
    "    P = K * math.exp(-r * T) * norm.cdf(-d2) - S * norm.cdf(-d1)\n",
    "    \n",
    "bsm_put(S, K, T, r, vol)"
   ]
  },
  {
   "cell_type": "code",
   "execution_count": 69,
   "metadata": {},
   "outputs": [
    {
     "name": "stdout",
     "output_type": "stream",
     "text": [
      "The value of d1 is:  1.3282\n",
      "The value of d2 is:  1.1868\n",
      "The value of call option is:  8.47\n",
      "The value of put option is:  0.32\n"
     ]
    }
   ],
   "source": [
    "print(\"The value of d1 is: \", round(d1 ,4))\n",
    "print(\"The value of d2 is: \", round(d2 ,4))\n",
    "print(\"The value of call option is: \",round(C ,2))\n",
    "print(\"The value of put option is: \", round(P ,2))"
   ]
  },
  {
   "cell_type": "markdown",
   "metadata": {},
   "source": [
    "Here's some key takeaways:\n",
    "\n",
    "1. If you increase the Stock price, the value of the call option increases because that's when that option is more In the money (ITM). The inverse is true for the put option. \n",
    "2. An increase in time to expiration increases both the call and put option values. \n",
    "3. Increasing volatility increases both options because it has positive correlation with each one of them. "
   ]
  },
  {
   "cell_type": "markdown",
   "metadata": {},
   "source": []
  }
 ],
 "metadata": {
  "kernelspec": {
   "display_name": "base",
   "language": "python",
   "name": "python3"
  },
  "language_info": {
   "codemirror_mode": {
    "name": "ipython",
    "version": 3
   },
   "file_extension": ".py",
   "mimetype": "text/x-python",
   "name": "python",
   "nbconvert_exporter": "python",
   "pygments_lexer": "ipython3",
   "version": "3.11.7"
  }
 },
 "nbformat": 4,
 "nbformat_minor": 2
}
